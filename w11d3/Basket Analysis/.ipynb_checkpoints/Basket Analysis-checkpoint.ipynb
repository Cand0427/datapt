{
 "cells": [
  {
   "cell_type": "code",
   "execution_count": 2,
   "metadata": {},
   "outputs": [],
   "source": [
    "import numpy as np\n",
    "import pandas as pd"
   ]
  },
  {
   "cell_type": "code",
   "execution_count": 3,
   "metadata": {},
   "outputs": [
    {
     "name": "stdout",
     "output_type": "stream",
     "text": [
      "The line_profiler extension is already loaded. To reload it, use:\n",
      "  %reload_ext line_profiler\n"
     ]
    }
   ],
   "source": [
    "%load_ext line_profiler"
   ]
  },
  {
   "cell_type": "code",
   "execution_count": 6,
   "metadata": {},
   "outputs": [],
   "source": [
    "def func1():\n",
    "    dataset = pd.read_csv(\"groceries2.txt\", delimiter='\t')\n",
    "    dataset= dataset.drop_duplicates()\n",
    "\n",
    "    # I create rows with each couple of products bought together (in the same transaction) \n",
    "    df_merged=dataset.set_index('Transaction ID').join(dataset.set_index('Transaction ID'), lsuffix='_1', rsuffix='_2')\n",
    "    \n",
    "    # I remove duplicates. \n",
    "    # LINE TO BE IMPROVED: THIS LINE TAKES 44% OF THE TIME\n",
    "    df_merged = df_merged[df_merged['Item_1']>df_merged['Item_2']]\n",
    "    # END OF LINE TO BE IMPROVED\n",
    "    \n",
    "    df_merged = df_merged[['Item_1','Item_2']].groupby(['Item_1','Item_2']).size().reset_index(name='counts')\n",
    "\n",
    "    # I count the total transactions, and add the 'support' column to the dataset\n",
    "    total_transactions = dataset['Transaction ID'].nunique()\n",
    "    df_merged['Support'] = df_merged.counts/total_transactions\n",
    "\n",
    "    # I modify the groceries table, to count how many transactions for each item\n",
    "    dataset = dataset.groupby(['Item']).size().reset_index(name='count')\n",
    "    # I add the support for each item\n",
    "    dataset['Support'] = dataset['count']/ total_transactions\n",
    "    # I remove the transaction ID column\n",
    "    dataset = dataset[['Item','Support']]\n",
    "    # I set the Item column to be the index (useful for merging later)\n",
    "    dataset = dataset.set_index('Item')\n",
    "\n",
    "    # I add the support for item 1 to the dataset\n",
    "    df_merged= df_merged.merge(dataset.rename({'Support': 'Support Item 1'}, axis=1), left_on='Item_1', right_index=True)\n",
    "    # I add the support for item 2 to the dataset\n",
    "    df_merged= df_merged.merge(dataset.rename({'Support': 'Support Item 2'}, axis=1), left_on='Item_2', right_index=True)\n",
    "\n",
    "    # I add the additional metrics\n",
    "    df_merged['Confidence Item 1 to Item 2'] = df_merged['Support']/df_merged['Support Item 1']\n",
    "    df_merged['Confidence Item 2 to Item 1'] = df_merged['Support']/df_merged['Support Item 2']\n",
    "    df_merged['Lift'] = df_merged['Support']/(df_merged['Support Item 1']*df_merged['Support Item 2'])\n",
    "\n",
    "    return df_merged"
   ]
  },
  {
   "cell_type": "code",
   "execution_count": 7,
   "metadata": {},
   "outputs": [
    {
     "data": {
      "text/plain": [
       "Timer unit: 1e-06 s\n",
       "\n",
       "Total time: 23.6854 s\n",
       "File: <ipython-input-6-5e1b3d339c19>\n",
       "Function: func1 at line 1\n",
       "\n",
       "Line #      Hits         Time  Per Hit   % Time  Line Contents\n",
       "==============================================================\n",
       "     1                                           def func1():\n",
       "     2         1     250268.0 250268.0      1.1      dataset = pd.read_csv(\"groceries2.txt\", delimiter='\t')\n",
       "     3         1      55731.0  55731.0      0.2      dataset= dataset.drop_duplicates()\n",
       "     4                                           \n",
       "     5                                               # I create a dataset with counts how many times each couple of transactions appear\n",
       "     6         1    3695556.0 3695556.0     15.6      df_merged=dataset.set_index('Transaction ID').join(dataset.set_index('Transaction ID'), lsuffix='_1', rsuffix='_2')\n",
       "     7         1   10497570.0 10497570.0     44.3      df_merged = df_merged[df_merged['Item_1']>df_merged['Item_2']]\n",
       "     8         1    7806425.0 7806425.0     33.0      df_merged = df_merged[['Item_1','Item_2']].groupby(['Item_1','Item_2']).size().reset_index(name='counts')\n",
       "     9                                           \n",
       "    10                                               # I count the total transactions, and add the 'support' column to the dataset\n",
       "    11         1      31658.0  31658.0      0.1      total_transactions = dataset['Transaction ID'].nunique()\n",
       "    12         1      22295.0  22295.0      0.1      df_merged['Support'] = df_merged.counts/total_transactions\n",
       "    13                                           \n",
       "    14                                               # I modify the groceries table, to count how many transactions for each item\n",
       "    15         1      60733.0  60733.0      0.3      dataset = dataset.groupby(['Item']).size().reset_index(name='count')\n",
       "    16                                               # I add the support for each item\n",
       "    17         1       1104.0   1104.0      0.0      dataset['Support'] = dataset['count']/ total_transactions\n",
       "    18                                               # I remove the transaction ID column\n",
       "    19         1       2048.0   2048.0      0.0      dataset = dataset[['Item','Support']]\n",
       "    20                                               # I set the Item column to be the index (useful for merging later)\n",
       "    21         1       1747.0   1747.0      0.0      dataset = dataset.set_index('Item')\n",
       "    22                                           \n",
       "    23                                               # I add the support for item 1 to the dataset\n",
       "    24         1     486642.0 486642.0      2.1      df_merged= df_merged.merge(dataset.rename({'Support': 'Support Item 1'}, axis=1), left_on='Item_1', right_index=True)\n",
       "    25                                               # I add the support for item 2 to the dataset\n",
       "    26         1     715928.0 715928.0      3.0      df_merged= df_merged.merge(dataset.rename({'Support': 'Support Item 2'}, axis=1), left_on='Item_2', right_index=True)\n",
       "    27                                           \n",
       "    28                                               # I add the additional metrics\n",
       "    29         1      15521.0  15521.0      0.1      df_merged['Confidence Item 1 to Item 2'] = df_merged['Support']/df_merged['Support Item 1']\n",
       "    30         1      15394.0  15394.0      0.1      df_merged['Confidence Item 2 to Item 1'] = df_merged['Support']/df_merged['Support Item 2']\n",
       "    31         1      26821.0  26821.0      0.1      df_merged['Lift'] = df_merged['Support']/(df_merged['Support Item 1']*df_merged['Support Item 2'])\n",
       "    32                                           \n",
       "    33         1          1.0      1.0      0.0      return df_merged"
      ]
     },
     "metadata": {},
     "output_type": "display_data"
    }
   ],
   "source": [
    "%lprun -f func1 func1()"
   ]
  },
  {
   "cell_type": "code",
   "execution_count": null,
   "metadata": {},
   "outputs": [],
   "source": []
  }
 ],
 "metadata": {
  "kernelspec": {
   "display_name": "Python 3",
   "language": "python",
   "name": "python3"
  },
  "language_info": {
   "codemirror_mode": {
    "name": "ipython",
    "version": 3
   },
   "file_extension": ".py",
   "mimetype": "text/x-python",
   "name": "python",
   "nbconvert_exporter": "python",
   "pygments_lexer": "ipython3",
   "version": "3.7.5"
  }
 },
 "nbformat": 4,
 "nbformat_minor": 4
}
